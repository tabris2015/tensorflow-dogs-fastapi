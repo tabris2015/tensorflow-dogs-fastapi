{
 "metadata": {
  "language_info": {
   "codemirror_mode": {
    "name": "ipython",
    "version": 3
   },
   "file_extension": ".py",
   "mimetype": "text/x-python",
   "name": "python",
   "nbconvert_exporter": "python",
   "pygments_lexer": "ipython3",
   "version": "3.8.5-final"
  },
  "orig_nbformat": 2,
  "kernelspec": {
   "name": "python3",
   "display_name": "Python 3",
   "language": "python"
  }
 },
 "nbformat": 4,
 "nbformat_minor": 2,
 "cells": [
  {
   "cell_type": "code",
   "execution_count": 1,
   "metadata": {},
   "outputs": [],
   "source": [
    "import numpy as np\n",
    "import tensorflow as tf\n",
    "import tensorflow_datasets as tfds\n",
    "import matplotlib.pyplot as plt\n"
   ]
  },
  {
   "cell_type": "code",
   "execution_count": 2,
   "metadata": {},
   "outputs": [
    {
     "output_type": "stream",
     "name": "stdout",
     "text": [
      "cats_vs_dogs: 2\ndog breeds: 120\n"
     ]
    }
   ],
   "source": [
    "IMG_SIZE = 224\n",
    "batch_size = 64\n",
    "\n",
    "_, breed_info = tfds.load(\n",
    "    'stanford_dogs', with_info=True, as_supervised=True\n",
    ")\n",
    "\n",
    "_, cats_dogs_info = tfds.load(\n",
    "    'cats_vs_dogs', with_info=True, as_supervised=True\n",
    ")\n",
    "\n",
    "\n",
    "print(f'cats_vs_dogs: {cats_dogs_info.features[\"label\"].num_classes}')\n",
    "print(f'dog breeds: {breed_info.features[\"label\"].num_classes}')\n"
   ]
  },
  {
   "cell_type": "code",
   "execution_count": 12,
   "metadata": {},
   "outputs": [],
   "source": [
    "# print(breed_info.features[\"label\"].num_classes)\n",
    "# print(breed_info.features[\"label\"].names)\n",
    "with open('breeds.txt', 'w') as f:\n",
    "    for name in breed_info.features['label'].names:\n",
    "        f.write(''.join(name.split('-')[1:]) + '\\n')\n",
    "\n",
    "# print(breed_info.features[\"label\"].int2str(7))  # Human readable version (8 -> 'cat')\n",
    "# print(breed_info.features[\"label\"].str2int('7'))"
   ]
  },
  {
   "cell_type": "code",
   "execution_count": 14,
   "metadata": {},
   "outputs": [
    {
     "output_type": "stream",
     "name": "stdout",
     "text": [
      "['chihuahua', 'japanese_spaniel', 'maltese_dog', 'pekinese', 'shihtzu', 'blenheim_spaniel', 'papillon', 'toy_terrier', 'rhodesian_ridgeback', 'afghan_hound', 'basset', 'beagle', 'bloodhound', 'bluetick', 'blackandtan_coonhound', 'walker_hound', 'english_foxhound', 'redbone', 'borzoi', 'irish_wolfhound', 'italian_greyhound', 'whippet', 'ibizan_hound', 'norwegian_elkhound', 'otterhound', 'saluki', 'scottish_deerhound', 'weimaraner', 'staffordshire_bullterrier', 'american_staffordshire_terrier', 'bedlington_terrier', 'border_terrier', 'kerry_blue_terrier', 'irish_terrier', 'norfolk_terrier', 'norwich_terrier', 'yorkshire_terrier', 'wirehaired_fox_terrier', 'lakeland_terrier', 'sealyham_terrier', 'airedale', 'cairn', 'australian_terrier', 'dandie_dinmont', 'boston_bull', 'miniature_schnauzer', 'giant_schnauzer', 'standard_schnauzer', 'scotch_terrier', 'tibetan_terrier', 'silky_terrier', 'softcoated_wheaten_terrier', 'west_highland_white_terrier', 'lhasa', 'flatcoated_retriever', 'curlycoated_retriever', 'golden_retriever', 'labrador_retriever', 'chesapeake_bay_retriever', 'german_shorthaired_pointer', 'vizsla', 'english_setter', 'irish_setter', 'gordon_setter', 'brittany_spaniel', 'clumber', 'english_springer', 'welsh_springer_spaniel', 'cocker_spaniel', 'sussex_spaniel', 'irish_water_spaniel', 'kuvasz', 'schipperke', 'groenendael', 'malinois', 'briard', 'kelpie', 'komondor', 'old_english_sheepdog', 'shetland_sheepdog', 'collie', 'border_collie', 'bouvier_des_flandres', 'rottweiler', 'german_shepherd', 'doberman', 'miniature_pinscher', 'greater_swiss_mountain_dog', 'bernese_mountain_dog', 'appenzeller', 'entlebucher', 'boxer', 'bull_mastiff', 'tibetan_mastiff', 'french_bulldog', 'great_dane', 'saint_bernard', 'eskimo_dog', 'malamute', 'siberian_husky', 'affenpinscher', 'basenji', 'pug', 'leonberg', 'newfoundland', 'great_pyrenees', 'samoyed', 'pomeranian', 'chow', 'keeshond', 'brabancon_griffon', 'pembroke', 'cardigan', 'toy_poodle', 'miniature_poodle', 'standard_poodle', 'mexican_hairless', 'dingo', 'dhole', 'african_hunting_dog']\n"
     ]
    }
   ],
   "source": [
    "def get_breeds(file):\n",
    "    breeds = []\n",
    "    with open(file, 'r') as f:\n",
    "        for line in f:\n",
    "            breeds.append(line.strip())\n",
    "    return breeds\n",
    "\n",
    "print(get_breeds('breeds.txt'))"
   ]
  },
  {
   "cell_type": "code",
   "execution_count": null,
   "metadata": {},
   "outputs": [],
   "source": [
    "# build model\n",
    "from tensorflow.keras.layers.experimental import preprocessing\n",
    "from tensorflow.keras.applications import EfficientNetB0\n",
    "from tensorflow.keras.layers.experimental import preprocessing\n",
    "from tensorflow.keras.models import Sequential\n",
    "from tensorflow.keras import layers\n",
    "\n",
    "img_augmentation = Sequential(\n",
    "    [\n",
    "        preprocessing.RandomRotation(factor=0.15),\n",
    "        preprocessing.RandomTranslation(height_factor=0.1, width_factor=0.1),\n",
    "        preprocessing.RandomFlip(),\n",
    "        preprocessing.RandomContrast(factor=0.1),\n",
    "    ],\n",
    "    name=\"img_augmentation\",\n",
    ")\n",
    "\n",
    "def build_model(num_classes):\n",
    "    inputs = layers.Input(shape=(IMG_SIZE, IMG_SIZE, 3))\n",
    "    x = img_augmentation(inputs)\n",
    "    model = EfficientNetB0(include_top=False, input_tensor=x, weights=\"imagenet\")\n",
    "\n",
    "    # Freeze the pretrained weights\n",
    "    model.trainable = False\n",
    "\n",
    "    # Rebuild top\n",
    "    x = layers.GlobalAveragePooling2D(name=\"avg_pool\")(model.output)\n",
    "    x = layers.BatchNormalization()(x)\n",
    "\n",
    "    top_dropout_rate = 0.2\n",
    "    x = layers.Dropout(top_dropout_rate, name=\"top_dropout\")(x)\n",
    "    outputs = layers.Dense(2, activation=\"softmax\", name=\"pred\")(x)\n",
    "\n",
    "    # Compile\n",
    "    model = tf.keras.Model(inputs, outputs, name=\"EfficientNet\")\n",
    "    optimizer = tf.keras.optimizers.Adam(learning_rate=1e-2)\n",
    "    model.compile(\n",
    "        optimizer=optimizer, loss=\"categorical_crossentropy\", metrics=[\"accuracy\"]\n",
    "    )\n",
    "    return model\n",
    "cats_dogs_model = build_model(num_classes=2)"
   ]
  },
  {
   "cell_type": "code",
   "execution_count": null,
   "metadata": {},
   "outputs": [],
   "source": [
    "tf.__version__\n"
   ]
  },
  {
   "cell_type": "code",
   "execution_count": 5,
   "metadata": {
    "tags": []
   },
   "outputs": [
    {
     "output_type": "stream",
     "name": "stdout",
     "text": [
      "WARNING:tensorflow:The operation `tf.image.convert_image_dtype` will be skipped since the input and output dtypes are identical.\n",
      "WARNING:tensorflow:The operation `tf.image.convert_image_dtype` will be skipped since the input and output dtypes are identical.\n",
      "WARNING:tensorflow:The operation `tf.image.convert_image_dtype` will be skipped since the input and output dtypes are identical.\n",
      "WARNING:tensorflow:The operation `tf.image.convert_image_dtype` will be skipped since the input and output dtypes are identical.\n"
     ]
    }
   ],
   "source": [
    "dogs_optimizer = tf.keras.optimizers.Adam(learning_rate=1e-2)\n",
    "\n",
    "# cats_dogs_model.load_weights('../tf_models/colab/cats_dogs_best_colab1.h5')\n",
    "\n",
    "dogs_model = tf.keras.models.load_model('best_local1.h5', compile=False)\n",
    "dogs_model.compile(\n",
    "        optimizer=dogs_optimizer, loss=\"categorical_crossentropy\", metrics=[\"accuracy\"]\n",
    "    )"
   ]
  },
  {
   "cell_type": "code",
   "execution_count": null,
   "metadata": {
    "tags": [
     "outputPrepend"
    ]
   },
   "outputs": [],
   "source": [
    "dogs_model.summary()"
   ]
  },
  {
   "cell_type": "code",
   "execution_count": null,
   "metadata": {},
   "outputs": [],
   "source": [
    "from utils import predict_image\n",
    "\n",
    "file = 'labrador.jpg'\n",
    "\n",
    "predict_image(file, dogs_model, breed_info)\n"
   ]
  },
  {
   "cell_type": "code",
   "execution_count": null,
   "metadata": {},
   "outputs": [],
   "source": [
    "predict_image(file, cats_dogs_model, cats_dogs_info)"
   ]
  },
  {
   "cell_type": "code",
   "execution_count": null,
   "metadata": {},
   "outputs": [],
   "source": []
  }
 ]
}